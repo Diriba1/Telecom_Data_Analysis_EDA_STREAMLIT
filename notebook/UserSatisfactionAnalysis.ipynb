{
 "cells": [
  {
   "cell_type": "markdown",
   "metadata": {},
   "source": [
    "## User Satisfaction Analysis"
   ]
  },
  {
   "cell_type": "markdown",
   "metadata": {},
   "source": [
    "#### importing libraries"
   ]
  },
  {
   "cell_type": "code",
   "execution_count": 1,
   "metadata": {},
   "outputs": [],
   "source": [
    "import pandas as pd\n",
    "import numpy as np\n",
    "import matplotlib.pyplot as plt\n",
    "import plotly.express as px\n",
    "import seaborn as sns\n",
    "import sys\n",
    "import os"
   ]
  },
  {
   "cell_type": "markdown",
   "metadata": {},
   "source": [
    "#### read cleaned csv data"
   ]
  },
  {
   "cell_type": "code",
   "execution_count": 2,
   "metadata": {},
   "outputs": [
    {
     "name": "stdout",
     "output_type": "stream",
     "text": [
      "(150001, 45)\n",
      "<class 'pandas.core.frame.DataFrame'>\n",
      "Index: 120739 entries, 0 to 149999\n",
      "Data columns (total 45 columns):\n",
      " #   Column                          Non-Null Count   Dtype  \n",
      "---  ------                          --------------   -----  \n",
      " 0   Bearer Id                       120739 non-null  float64\n",
      " 1   Start                           120739 non-null  object \n",
      " 2   Start ms                        120739 non-null  float64\n",
      " 3   End                             120739 non-null  object \n",
      " 4   End ms                          120739 non-null  float64\n",
      " 5   Dur. (ms)                       120739 non-null  float64\n",
      " 6   IMSI                            120739 non-null  float64\n",
      " 7   MSISDN/Number                   120739 non-null  float64\n",
      " 8   IMEI                            120739 non-null  float64\n",
      " 9   Last Location Name              120739 non-null  object \n",
      " 10  Avg RTT DL (ms)                 120739 non-null  float64\n",
      " 11  Avg RTT UL (ms)                 120739 non-null  float64\n",
      " 12  Avg Bearer TP DL (kbps)         120739 non-null  float64\n",
      " 13  Avg Bearer TP UL (kbps)         120739 non-null  float64\n",
      " 14  DL TP < 50 Kbps (%)             120739 non-null  float64\n",
      " 15  50 Kbps < DL TP < 250 Kbps (%)  120739 non-null  float64\n",
      " 16  250 Kbps < DL TP < 1 Mbps (%)   120739 non-null  float64\n",
      " 17  DL TP > 1 Mbps (%)              120739 non-null  float64\n",
      " 18  UL TP < 10 Kbps (%)             120739 non-null  float64\n",
      " 19  10 Kbps < UL TP < 50 Kbps (%)   120739 non-null  float64\n",
      " 20  50 Kbps < UL TP < 300 Kbps (%)  120739 non-null  float64\n",
      " 21  UL TP > 300 Kbps (%)            120739 non-null  float64\n",
      " 22  Activity Duration DL (ms)       120739 non-null  float64\n",
      " 23  Activity Duration UL (ms)       120739 non-null  float64\n",
      " 24  Dur. (ms).1                     120739 non-null  float64\n",
      " 25  Handset Manufacturer            120739 non-null  object \n",
      " 26  Handset Type                    120739 non-null  object \n",
      " 27  Nb of sec with Vol DL < 6250B   120739 non-null  float64\n",
      " 28  Nb of sec with Vol UL < 1250B   120739 non-null  float64\n",
      " 29  Social Media DL (Bytes)         120739 non-null  float64\n",
      " 30  Social Media UL (Bytes)         120739 non-null  float64\n",
      " 31  Google DL (Bytes)               120739 non-null  float64\n",
      " 32  Google UL (Bytes)               120739 non-null  float64\n",
      " 33  Email DL (Bytes)                120739 non-null  float64\n",
      " 34  Email UL (Bytes)                120739 non-null  float64\n",
      " 35  Youtube DL (Bytes)              120739 non-null  float64\n",
      " 36  Youtube UL (Bytes)              120739 non-null  float64\n",
      " 37  Netflix DL (Bytes)              120739 non-null  float64\n",
      " 38  Netflix UL (Bytes)              120739 non-null  float64\n",
      " 39  Gaming DL (Bytes)               120739 non-null  float64\n",
      " 40  Gaming UL (Bytes)               120739 non-null  float64\n",
      " 41  Other DL (Bytes)                120739 non-null  float64\n",
      " 42  Other UL (Bytes)                120739 non-null  float64\n",
      " 43  Total UL (Bytes)                120739 non-null  float64\n",
      " 44  Total DL (Bytes)                120739 non-null  float64\n",
      "dtypes: float64(40), object(5)\n",
      "memory usage: 42.4+ MB\n"
     ]
    }
   ],
   "source": [
    "try:\n",
    "    clean_data = pd.read_csv('../data/clean_data.csv')\n",
    "except BaseException:\n",
    "    logging.error('either file not found or wrong format')\n",
    "    \n",
    "print(clean_data.shape)\n",
    "clean_data = clean_data.dropna()\n",
    "clean_data.info()"
   ]
  }
 ],
 "metadata": {
  "kernelspec": {
   "display_name": "Python 3",
   "language": "python",
   "name": "python3"
  },
  "language_info": {
   "codemirror_mode": {
    "name": "ipython",
    "version": 3
   },
   "file_extension": ".py",
   "mimetype": "text/x-python",
   "name": "python",
   "nbconvert_exporter": "python",
   "pygments_lexer": "ipython3",
   "version": "3.12.0"
  }
 },
 "nbformat": 4,
 "nbformat_minor": 2
}
