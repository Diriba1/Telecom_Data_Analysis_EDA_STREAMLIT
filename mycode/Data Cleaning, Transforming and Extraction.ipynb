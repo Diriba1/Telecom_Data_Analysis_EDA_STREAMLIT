{
 "cells": [
  {
   "cell_type": "code",
   "execution_count": 5,
   "metadata": {},
   "outputs": [],
   "source": [
    "# Importing requered libraries\n",
    "import os\n",
    "import pandas as pd\n",
    "from pandasql import sqldf\n",
    "from io import StringIO\n",
    "\n",
    "\n"
   ]
  },
  {
   "cell_type": "code",
   "execution_count": 6,
   "metadata": {},
   "outputs": [],
   "source": [
    "# Define a function to execute SQL queries on DataFrames\n",
    "pysqldf = lambda q: sqldf(q, globals())\n",
    "\n",
    "\n",
    "# Get the current working directory\n",
    "current_directory = os.getcwd()\n",
    "\n",
    "# Go up one folder from the current directory\n",
    "parent_directory = os.path.abspath(os.path.join(current_directory, os.pardir))\n",
    "\n",
    "# Define the path to the 're.txt' file in the below folder\n",
    "sql_dump_contents = os.path.join(parent_directory, 'data', 'telecom.sql')\n",
    "\n",
    "# Check if the file exists before attempting to read it\n",
    "if os.path.exists(sql_dump_contents):\n",
    "    sql_dump_io = StringIO(sql_dump_contents)\n",
    "\n",
    "    # Skip the initial comments and statements until you reach the 'COPY' command\n",
    "    while True:\n",
    "        line = sql_dump_io.readline()\n",
    "        if line.startswith('COPY'):\n",
    "            break\n",
    "\n",
    "    # Read the data into a Pandas DataFrame\n",
    "    df = pd.read_csv(sql_dump_io, sep='\\t', header=None)\n",
    "\n",
    "    # Display the DataFrame\n",
    "    print(df)\n",
    "else:\n",
    "    print(f\"The file '{file_path}' does not exist.\")\n",
    "\n",
    "\n",
    "# sql_file = '\\..\\data\\telecom.sql'"
   ]
  }
 ],
 "metadata": {
  "kernelspec": {
   "display_name": "Python 3",
   "language": "python",
   "name": "python3"
  },
  "language_info": {
   "codemirror_mode": {
    "name": "ipython",
    "version": 3
   },
   "file_extension": ".py",
   "mimetype": "text/x-python",
   "name": "python",
   "nbconvert_exporter": "python",
   "pygments_lexer": "ipython3",
   "version": "3.12.0"
  }
 },
 "nbformat": 4,
 "nbformat_minor": 2
}
